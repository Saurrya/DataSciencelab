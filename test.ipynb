{
 "cells": [
  {
   "cell_type": "code",
   "execution_count": 1,
   "metadata": {},
   "outputs": [
    {
     "name": "stdout",
     "output_type": "stream",
     "text": [
      "hello world\n"
     ]
    }
   ],
   "source": [
    "print(\"hello world\")"
   ]
  },
  {
   "cell_type": "code",
   "execution_count": 2,
   "metadata": {},
   "outputs": [
    {
     "name": "stdout",
     "output_type": "stream",
     "text": [
      "hello world\n"
     ]
    }
   ],
   "source": [
    "print(\"hello world\")"
   ]
  },
  {
   "cell_type": "markdown",
   "metadata": {},
   "source": [
    "# if else conditon statement"
   ]
  },
  {
   "cell_type": "markdown",
   "metadata": {},
   "source": [
    "## que1"
   ]
  },
  {
   "cell_type": "code",
   "execution_count": 4,
   "metadata": {},
   "outputs": [
    {
     "name": "stdout",
     "output_type": "stream",
     "text": [
      "you are underage for making citizenship\n"
     ]
    }
   ],
   "source": [
    "age=float(input(\"enter your age\"))\n",
    "if age<16:\n",
    "    print(\"you are underage for making citizenship\")\n",
    "else:\n",
    "    print(\"you can create citizenship\")\n"
   ]
  },
  {
   "cell_type": "markdown",
   "metadata": {},
   "source": [
    "## que2"
   ]
  },
  {
   "cell_type": "code",
   "execution_count": 5,
   "metadata": {},
   "outputs": [
    {
     "ename": "ValueError",
     "evalue": "invalid literal for int() with base 10: ''",
     "output_type": "error",
     "traceback": [
      "\u001b[1;31m---------------------------------------------------------------------------\u001b[0m",
      "\u001b[1;31mValueError\u001b[0m                                Traceback (most recent call last)",
      "Cell \u001b[1;32mIn[5], line 1\u001b[0m\n\u001b[1;32m----> 1\u001b[0m number\u001b[38;5;241m=\u001b[39m\u001b[38;5;28;43mint\u001b[39;49m\u001b[43m(\u001b[49m\u001b[38;5;28;43minput\u001b[39;49m\u001b[43m(\u001b[49m\u001b[38;5;124;43m\"\u001b[39;49m\u001b[38;5;124;43menter the number\u001b[39;49m\u001b[38;5;124;43m\"\u001b[39;49m\u001b[43m)\u001b[49m\u001b[43m)\u001b[49m\n\u001b[0;32m      2\u001b[0m \u001b[38;5;28;01mif\u001b[39;00m number\u001b[38;5;241m<\u001b[39m\u001b[38;5;241m0\u001b[39m:\n\u001b[0;32m      3\u001b[0m     \u001b[38;5;28mprint\u001b[39m(\u001b[38;5;124m\"\u001b[39m\u001b[38;5;124mthe enterned number is negative\u001b[39m\u001b[38;5;124m\"\u001b[39m)\n",
      "\u001b[1;31mValueError\u001b[0m: invalid literal for int() with base 10: ''"
     ]
    }
   ],
   "source": [
    "number=int(input(\"enter the number\"))\n",
    "if number<0:\n",
    "    print(\"the enterned number is negative\")\n",
    "elif number>0 and number<=50:\n",
    "    print(\"the number is between 0 and 50 including 50\")\n",
    "elif number>50 and number<=100:\n",
    "    print(\"the number is between 50 and 100 including 100\")\n",
    "else:\n",
    "    print(\"the number is greater than 100\")"
   ]
  },
  {
   "cell_type": "markdown",
   "metadata": {},
   "source": [
    "# For loop"
   ]
  },
  {
   "cell_type": "markdown",
   "metadata": {},
   "source": [
    "## que1"
   ]
  },
  {
   "cell_type": "code",
   "execution_count": 2,
   "metadata": {},
   "outputs": [
    {
     "name": "stdout",
     "output_type": "stream",
     "text": [
      "1\n",
      "3\n",
      "5\n",
      "7\n",
      "9\n"
     ]
    }
   ],
   "source": [
    "for x in range(1,10,2):#(start,end,step)\n",
    "    print(x)\n"
   ]
  },
  {
   "cell_type": "markdown",
   "metadata": {},
   "source": [
    "## que2"
   ]
  },
  {
   "cell_type": "code",
   "execution_count": 6,
   "metadata": {},
   "outputs": [
    {
     "name": "stdout",
     "output_type": "stream",
     "text": [
      "the sum is 36\n"
     ]
    }
   ],
   "source": [
    "n=int(input(\"enter the number upto which your want sum\"))\n",
    "sum=0 #sum lai 0 assign garna parcha as if esto garena bhane sum variable k type ho thapaudaina and moreover if ekchoti sum-0 garera garyo ra next time tyo line lai nai hataidyo bhane pheri print garda jun value chainey ho tyo value aaudaina,say n=7 cha and initially sum=0 garera garda value 21 ayo ra pheri aba sum=0 hatara run garyo bhane value 42 aaucha as intially sum ko value 0 nabhai aba sum ko value intially 21 huncha.\n",
    "for i in range(1,n+1):#n=7 deko cham tara loop chai 6 samma matra run huncha so +1 garna parcha to get desired o/p\n",
    "    sum=sum+i\n",
    "print(\"the sum is\",sum)"
   ]
  },
  {
   "cell_type": "markdown",
   "metadata": {},
   "source": [
    "## break and continue"
   ]
  },
  {
   "cell_type": "code",
   "execution_count": 7,
   "metadata": {},
   "outputs": [
    {
     "name": "stdout",
     "output_type": "stream",
     "text": [
      "1\n",
      "2\n",
      "3\n",
      "4\n",
      "5\n",
      "7\n"
     ]
    }
   ],
   "source": [
    "for i in range(1,10):\n",
    "    if(i==6):\n",
    "        continue\n",
    "    if(i==8):\n",
    "        break\n",
    "    print(i)"
   ]
  },
  {
   "cell_type": "markdown",
   "metadata": {},
   "source": [
    "# While loop"
   ]
  },
  {
   "cell_type": "code",
   "execution_count": 8,
   "metadata": {},
   "outputs": [
    {
     "name": "stdout",
     "output_type": "stream",
     "text": [
      "20\n",
      "19\n",
      "18\n",
      "17\n",
      "16\n",
      "15\n",
      "14\n",
      "13\n",
      "12\n",
      "11\n",
      "10\n",
      "9\n",
      "8\n",
      "7\n",
      "6\n",
      "5\n",
      "4\n",
      "3\n",
      "2\n",
      "1\n",
      "0\n"
     ]
    }
   ],
   "source": [
    "i=20\n",
    "while(i>=0):\n",
    "    print(i)\n",
    "    i=i-1"
   ]
  },
  {
   "cell_type": "markdown",
   "metadata": {},
   "source": [
    "# List"
   ]
  },
  {
   "cell_type": "code",
   "execution_count": 9,
   "metadata": {},
   "outputs": [
    {
     "name": "stdout",
     "output_type": "stream",
     "text": [
      "<class 'list'>\n",
      "['toyota', 'audi', 'maserati', 'honda', 'bmw', 'toyota']\n",
      "toyota\n",
      "audi\n",
      "maserati\n",
      "honda\n",
      "bmw\n",
      "toyota\n",
      "(0, 'toyota')\n",
      "(1, 'audi')\n",
      "(2, 'maserati')\n",
      "(3, 'honda')\n",
      "(4, 'bmw')\n",
      "(5, 'toyota')\n",
      "index:0,name:toyota\n",
      "index:1,name:audi\n",
      "index:2,name:maserati\n",
      "index:3,name:honda\n",
      "index:4,name:bmw\n",
      "index:5,name:toyota\n"
     ]
    }
   ],
   "source": [
    "car=[\"toyota\",\"audi\",\"maserati\",\"honda\",\"bmw\",\"toyota\"]\n",
    "print(type(car))\n",
    "print(car)\n",
    "for i in car:\n",
    "    print(i)\n",
    "for j in enumerate(car):\n",
    "    print(j)\n",
    "for index,name in enumerate(car):\n",
    "    print(f\"index:{index},name:{name}\")\n"
   ]
  },
  {
   "cell_type": "markdown",
   "metadata": {},
   "source": [
    "# function"
   ]
  },
  {
   "cell_type": "code",
   "execution_count": 11,
   "metadata": {},
   "outputs": [
    {
     "ename": "IndentationError",
     "evalue": "expected an indented block after 'for' statement on line 3 (1721228026.py, line 4)",
     "output_type": "error",
     "traceback": [
      "\u001b[1;36m  Cell \u001b[1;32mIn[11], line 4\u001b[1;36m\u001b[0m\n\u001b[1;33m    if x%i==0:\u001b[0m\n\u001b[1;37m    ^\u001b[0m\n\u001b[1;31mIndentationError\u001b[0m\u001b[1;31m:\u001b[0m expected an indented block after 'for' statement on line 3\n"
     ]
    }
   ],
   "source": [
    "def prime(x):\n",
    "    c=0\n",
    "    for i in range(1,x+1):\n",
    "        if x%i==0:\n",
    "            c=c+1\n",
    "    if c==2:\n",
    "        print(\"the number is prime\")\n",
    "    else:\n",
    "        print(\"the number is not prime\")\n",
    "n=int(input(\"Enter any number\"))\n",
    "prime(n) ##put all of these contents in github"
   ]
  },
  {
   "cell_type": "markdown",
   "metadata": {},
   "source": [
    "# Assignment"
   ]
  },
  {
   "cell_type": "markdown",
   "metadata": {},
   "source": [
    "## que1"
   ]
  },
  {
   "cell_type": "code",
   "execution_count": 1,
   "metadata": {},
   "outputs": [
    {
     "name": "stdout",
     "output_type": "stream",
     "text": [
      "0\n",
      "1\n",
      "1\n",
      "2\n",
      "3\n",
      "5\n",
      "8\n"
     ]
    }
   ],
   "source": [
    "def fibo(): #finabonacci series upto n terms\n",
    "    n=int(input(\"enter the n number of terms:\"))\n",
    "    i=0\n",
    "    sum=0\n",
    "    print(\"0\")\n",
    "    print(\"1\")\n",
    "    a=0\n",
    "    b=1\n",
    "    while i<(n-1):\n",
    "        sum=a+b\n",
    "        print(sum)\n",
    "        a=b\n",
    "        b=sum\n",
    "        i=i+1\n",
    "fibo()\n"
   ]
  },
  {
   "cell_type": "markdown",
   "metadata": {},
   "source": [
    "## que2"
   ]
  },
  {
   "cell_type": "code",
   "execution_count": 3,
   "metadata": {},
   "outputs": [
    {
     "name": "stdout",
     "output_type": "stream",
     "text": [
      "too low\n",
      "too low\n",
      "too low\n",
      "too high\n",
      "too high\n",
      "too low\n",
      "Nice!you have guessed the number.\n"
     ]
    }
   ],
   "source": [
    "import random\n",
    "def guess():\n",
    "    x=random.randint(1,200)\n",
    "    y=int(input(\"enter any number between 1 and 200\"))\n",
    "    while y!=x:\n",
    "        if y>x:\n",
    "            print(\"too high\")\n",
    "        elif y<x:\n",
    "            print(\"too low\")\n",
    "        y=int(input(\"try again!Enter number:\"))\n",
    "    print(\"Nice!you have guessed the number.\")\n",
    "guess()"
   ]
  },
  {
   "cell_type": "code",
   "execution_count": null,
   "metadata": {},
   "outputs": [],
   "source": []
  }
 ],
 "metadata": {
  "kernelspec": {
   "display_name": "base",
   "language": "python",
   "name": "python3"
  },
  "language_info": {
   "codemirror_mode": {
    "name": "ipython",
    "version": 3
   },
   "file_extension": ".py",
   "mimetype": "text/x-python",
   "name": "python",
   "nbconvert_exporter": "python",
   "pygments_lexer": "ipython3",
   "version": "3.12.4"
  }
 },
 "nbformat": 4,
 "nbformat_minor": 2
}
