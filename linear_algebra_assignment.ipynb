{
 "cells": [
  {
   "cell_type": "markdown",
   "metadata": {},
   "source": [
    "# 1.matrix operation"
   ]
  },
  {
   "cell_type": "markdown",
   "metadata": {},
   "source": [
    "## a."
   ]
  },
  {
   "cell_type": "code",
   "execution_count": 21,
   "metadata": {},
   "outputs": [
    {
     "name": "stdout",
     "output_type": "stream",
     "text": [
      "A+B= [[ 3  1]\n",
      " [-3  7]]\n",
      "2A= [[ 4 -2]\n",
      " [ 0  6]]\n",
      "3A-2B= [[ 4 -7]\n",
      " [ 6  1]]\n"
     ]
    }
   ],
   "source": [
    "import numpy as np\n",
    "\n",
    "# Define two matrices\n",
    "A = np.array([[2, -1], [0, 3]])\n",
    "B = np.array([[1, 2], [-3, 4]])\n",
    "\n",
    "# Matrix addition\n",
    "C = A + B\n",
    "D= 2*A\n",
    "E=3*A-2*B\n",
    "\n",
    "# Print the result\n",
    "print(\"A+B=\",C)\n",
    "print(\"2A=\",D)\n",
    "print(\"3A-2B=\",E)\n",
    "\n"
   ]
  },
  {
   "cell_type": "markdown",
   "metadata": {},
   "source": [
    "## b."
   ]
  },
  {
   "cell_type": "code",
   "execution_count": 15,
   "metadata": {},
   "outputs": [
    {
     "name": "stdout",
     "output_type": "stream",
     "text": [
      "Determinant of A: 6.0\n",
      "the matrix is invertible\n",
      "Its inverse is:\n",
      "[[0.5        0.16666667]\n",
      " [0.         0.33333333]]\n"
     ]
    }
   ],
   "source": [
    "import numpy as np\n",
    "import numpy.linalg as LA\n",
    "# Define the matrix\n",
    "A = np.array([[2, -1],[0, 3]])\n",
    "# Compute the determinant\n",
    "determinant = LA.det(A)\n",
    "# Print the result\n",
    "print(\"Determinant of A:\", determinant)\n",
    "if determinant!=0:\n",
    "    print(\"the matrix is invertible\")\n",
    "else: \n",
    "    print(\"the matrix is non-invertible\")\n",
    "print(\"Its inverse is:\")\n",
    "inverse = LA.inv(A)\n",
    "print(inverse)"
   ]
  },
  {
   "cell_type": "markdown",
   "metadata": {},
   "source": [
    "## c."
   ]
  },
  {
   "cell_type": "code",
   "execution_count": 6,
   "metadata": {},
   "outputs": [
    {
     "name": "stdout",
     "output_type": "stream",
     "text": [
      "Matrix A:\n",
      "[[ 4  1]\n",
      " [-2  1]]\n",
      "\n",
      "Eigenvalue (first):\n",
      "3.0\n",
      "\n",
      "Corresponding Eigenvector:\n",
      "[ 0.70710678 -0.70710678]\n"
     ]
    }
   ],
   "source": [
    "import numpy as np\n",
    "\n",
    "# Define the matrix\n",
    "A = np.array([[4, 1], [-2, 1]])\n",
    "\n",
    "# Compute eigenvalues and eigenvectors\n",
    "eigenvalues, eigenvectors = np.linalg.eig(A)\n",
    "\n",
    "# Print the results\n",
    "print(\"Matrix A:\")\n",
    "print(A)\n",
    "print(\"\\nEigenvalue (first):\")\n",
    "print(eigenvalues[0])\n",
    "print(\"\\nCorresponding Eigenvector:\")\n",
    "print(eigenvectors[:, 0])\n"
   ]
  },
  {
   "cell_type": "markdown",
   "metadata": {},
   "source": [
    "## d."
   ]
  },
  {
   "cell_type": "code",
   "execution_count": null,
   "metadata": {},
   "outputs": [
    {
     "ename": "LinAlgError",
     "evalue": "Singular matrix",
     "output_type": "error",
     "traceback": [
      "\u001b[1;31m---------------------------------------------------------------------------\u001b[0m",
      "\u001b[1;31mLinAlgError\u001b[0m                               Traceback (most recent call last)",
      "Cell \u001b[1;32mIn[33], line 14\u001b[0m\n\u001b[0;32m     12\u001b[0m X_transpose \u001b[38;5;241m=\u001b[39m X\u001b[38;5;241m.\u001b[39mT  \u001b[38;5;66;03m# X^T is the transpose of X\u001b[39;00m\n\u001b[0;32m     13\u001b[0m \u001b[38;5;66;03m# Compute β = (X.T * X)^-1 * X.T * y\u001b[39;00m\n\u001b[1;32m---> 14\u001b[0m beta \u001b[38;5;241m=\u001b[39m \u001b[43mnp\u001b[49m\u001b[38;5;241;43m.\u001b[39;49m\u001b[43mlinalg\u001b[49m\u001b[38;5;241;43m.\u001b[39;49m\u001b[43minv\u001b[49m\u001b[43m(\u001b[49m\u001b[43mX_transpose\u001b[49m\u001b[43m \u001b[49m\u001b[38;5;241;43m@\u001b[39;49m\u001b[43m \u001b[49m\u001b[43mX\u001b[49m\u001b[43m)\u001b[49m \u001b[38;5;241m@\u001b[39m X_transpose \u001b[38;5;241m@\u001b[39m y\n\u001b[0;32m     16\u001b[0m \u001b[38;5;66;03m# Now, to predict the price of car 3 (with features x1=8, x2=3.0, x3=200)\u001b[39;00m\n\u001b[0;32m     17\u001b[0m car_3_features \u001b[38;5;241m=\u001b[39m np\u001b[38;5;241m.\u001b[39marray([\u001b[38;5;241m1\u001b[39m, \u001b[38;5;241m8\u001b[39m, \u001b[38;5;241m3.0\u001b[39m, \u001b[38;5;241m200\u001b[39m])  \u001b[38;5;66;03m# 1 for the bias term\u001b[39;00m\n",
      "File \u001b[1;32mc:\\Users\\ACER\\anaconda3\\Lib\\site-packages\\numpy\\linalg\\linalg.py:561\u001b[0m, in \u001b[0;36minv\u001b[1;34m(a)\u001b[0m\n\u001b[0;32m    559\u001b[0m signature \u001b[38;5;241m=\u001b[39m \u001b[38;5;124m'\u001b[39m\u001b[38;5;124mD->D\u001b[39m\u001b[38;5;124m'\u001b[39m \u001b[38;5;28;01mif\u001b[39;00m isComplexType(t) \u001b[38;5;28;01melse\u001b[39;00m \u001b[38;5;124m'\u001b[39m\u001b[38;5;124md->d\u001b[39m\u001b[38;5;124m'\u001b[39m\n\u001b[0;32m    560\u001b[0m extobj \u001b[38;5;241m=\u001b[39m get_linalg_error_extobj(_raise_linalgerror_singular)\n\u001b[1;32m--> 561\u001b[0m ainv \u001b[38;5;241m=\u001b[39m \u001b[43m_umath_linalg\u001b[49m\u001b[38;5;241;43m.\u001b[39;49m\u001b[43minv\u001b[49m\u001b[43m(\u001b[49m\u001b[43ma\u001b[49m\u001b[43m,\u001b[49m\u001b[43m \u001b[49m\u001b[43msignature\u001b[49m\u001b[38;5;241;43m=\u001b[39;49m\u001b[43msignature\u001b[49m\u001b[43m,\u001b[49m\u001b[43m \u001b[49m\u001b[43mextobj\u001b[49m\u001b[38;5;241;43m=\u001b[39;49m\u001b[43mextobj\u001b[49m\u001b[43m)\u001b[49m\n\u001b[0;32m    562\u001b[0m \u001b[38;5;28;01mreturn\u001b[39;00m wrap(ainv\u001b[38;5;241m.\u001b[39mastype(result_t, copy\u001b[38;5;241m=\u001b[39m\u001b[38;5;28;01mFalse\u001b[39;00m))\n",
      "File \u001b[1;32mc:\\Users\\ACER\\anaconda3\\Lib\\site-packages\\numpy\\linalg\\linalg.py:112\u001b[0m, in \u001b[0;36m_raise_linalgerror_singular\u001b[1;34m(err, flag)\u001b[0m\n\u001b[0;32m    111\u001b[0m \u001b[38;5;28;01mdef\u001b[39;00m \u001b[38;5;21m_raise_linalgerror_singular\u001b[39m(err, flag):\n\u001b[1;32m--> 112\u001b[0m     \u001b[38;5;28;01mraise\u001b[39;00m LinAlgError(\u001b[38;5;124m\"\u001b[39m\u001b[38;5;124mSingular matrix\u001b[39m\u001b[38;5;124m\"\u001b[39m)\n",
      "\u001b[1;31mLinAlgError\u001b[0m: Singular matrix"
     ]
    }
   ],
   "source": [
    "import numpy as np\n",
    "\n",
    "# Define the feature matrix X (with 1's for the bias term)\n",
    "# Each row represents one car, and each column represents a feature (including the bias term)\n",
    "X = np.array([[1, 4, 1.5, 100],   # Car 1 features (with bias term)\n",
    "              [1, 6, 2.0, 150]])  # Car 2 features (with bias term)\n",
    "# Define the price vector y\n",
    "y = np.array([20, 30])  # Prices of car 1 and car 2\n",
    "# Compute the coefficient vector β using the normal equation\n",
    "X_transpose = X.T  # X^T is the transpose of X\n",
    "# Compute β = (X.T * X)^-1 * X.T * y\n",
    "beta = np.linalg.inv(X_transpose @ X) @ X_transpose @ y\n",
    "# Now, to predict the price of car 3 (with features x1=8, x2=3.0, x3=200)\n",
    "car_3_features = np.array([1, 8, 3.0, 200])  # 1 for the bias term\n",
    "predicted_price = car_3_features @ beta  # Multiply feature vector of car 3 by beta\n",
    "# Print the result\n",
    "print(f\"Predicted price of car 3: ${predicted_price:.2f}\")\n",
    "\n",
    "\n",
    "#Here x.t*x is singular and hence has no inverse so we use pseudo-inverse in the next code block"
   ]
  },
  {
   "cell_type": "code",
   "execution_count": 36,
   "metadata": {},
   "outputs": [
    {
     "name": "stdout",
     "output_type": "stream",
     "text": [
      "Predicted price of car3:40.00080\n"
     ]
    }
   ],
   "source": [
    "## correction using psedo-inverse\n",
    "\n",
    "import numpy as np\n",
    "# Define the feature matrix X \n",
    "X=np.array([[1, 4, 1.5, 100],   # Car 1 features (with bias term),bias term le if inputs 0 cha bhane ni output dincha\n",
    "              [1, 6, 2.0, 150]])  # Car 2 features (with bias term)\n",
    "# Define the price vector y\n",
    "y=np.array([20, 30])  # Prices of car 1 and car 2\n",
    "# Compute the coefficient vector b using the normal equation with pseudo-inverse\n",
    "X_tp=X.T  # X^T is the transpose of X\n",
    "# Using pseudo-inverse instead of regular inverse to handle singular matrix\n",
    "b=np.linalg.pinv(X_tp@X) @X_tp@y  # Normal equation with pseudo-inverse, @ le matrix multiplication garcha\n",
    "car3_features=np.array([1, 8, 3.0, 200])  # 1 for the bias term ,feature vector of car 3 ho\n",
    "predicted_price=car3_features@b  #  X.T*b=y\n",
    "print(f\"Predicted price of car3:{predicted_price:.5f}\")\n"
   ]
  }
 ],
 "metadata": {
  "kernelspec": {
   "display_name": "base",
   "language": "python",
   "name": "python3"
  },
  "language_info": {
   "codemirror_mode": {
    "name": "ipython",
    "version": 3
   },
   "file_extension": ".py",
   "mimetype": "text/x-python",
   "name": "python",
   "nbconvert_exporter": "python",
   "pygments_lexer": "ipython3",
   "version": "3.12.4"
  }
 },
 "nbformat": 4,
 "nbformat_minor": 2
}
